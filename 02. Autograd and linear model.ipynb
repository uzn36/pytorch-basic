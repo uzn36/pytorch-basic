{
 "cells": [
  {
   "cell_type": "markdown",
   "id": "1dc8cd9c",
   "metadata": {},
   "source": [
    "# Autograd"
   ]
  },
  {
   "cell_type": "code",
   "execution_count": 1,
   "id": "2927db1f",
   "metadata": {},
   "outputs": [],
   "source": [
    "import torch"
   ]
  },
  {
   "cell_type": "markdown",
   "id": "54496dad",
   "metadata": {},
   "source": [
    "## Autograd"
   ]
  },
  {
   "cell_type": "markdown",
   "id": "909ef89e",
   "metadata": {},
   "source": [
    "tensor 그냥은 require_grad가 False인데"
   ]
  },
  {
   "cell_type": "code",
   "execution_count": 4,
   "id": "71af675f",
   "metadata": {},
   "outputs": [
    {
     "data": {
      "text/plain": [
       "False"
      ]
     },
     "execution_count": 4,
     "metadata": {},
     "output_type": "execute_result"
    }
   ],
   "source": [
    "x = torch.ones(1)\n",
    "x.requires_grad # False\n",
    "y = torch.ones(1)\n",
    "y.requires_grad#False\n",
    "z = x+y \n",
    "z.requires_grad #False"
   ]
  },
  {
   "cell_type": "code",
   "execution_count": 5,
   "id": "a141f3a5",
   "metadata": {},
   "outputs": [
    {
     "data": {
      "text/plain": [
       "True"
      ]
     },
     "execution_count": 5,
     "metadata": {},
     "output_type": "execute_result"
    }
   ],
   "source": [
    "x.requires_grad_()\n",
    "x.requires_grad"
   ]
  },
  {
   "cell_type": "markdown",
   "id": "819ae7ea",
   "metadata": {},
   "source": [
    "이렇게 True로 바꿔줄 수 있고, True로 바꿔주면 걔를 이용한 연산을 해도 requires grad = True가 나온다."
   ]
  },
  {
   "cell_type": "code",
   "execution_count": 7,
   "id": "a72bf65c",
   "metadata": {},
   "outputs": [
    {
     "data": {
      "text/plain": [
       "True"
      ]
     },
     "execution_count": 7,
     "metadata": {},
     "output_type": "execute_result"
    }
   ],
   "source": [
    "z = x + y\n",
    "z.requires_grad "
   ]
  },
  {
   "cell_type": "code",
   "execution_count": 8,
   "id": "a8caeb05",
   "metadata": {},
   "outputs": [
    {
     "data": {
      "text/plain": [
       "tensor([[1., 2.],\n",
       "        [3., 4.]])"
      ]
     },
     "execution_count": 8,
     "metadata": {},
     "output_type": "execute_result"
    }
   ],
   "source": [
    "y = torch.tensor([[1, 2], [3, 4]], dtype=torch.float32)\n",
    "y"
   ]
  },
  {
   "cell_type": "code",
   "execution_count": 10,
   "id": "d7ac3b2d",
   "metadata": {},
   "outputs": [
    {
     "data": {
      "text/plain": [
       "False"
      ]
     },
     "execution_count": 10,
     "metadata": {},
     "output_type": "execute_result"
    }
   ],
   "source": [
    "y.requires_grad"
   ]
  },
  {
   "cell_type": "code",
   "execution_count": 11,
   "id": "1d4e70f4",
   "metadata": {},
   "outputs": [
    {
     "data": {
      "text/plain": [
       "tensor([[1., 2.],\n",
       "        [3., 4.]], requires_grad=True)"
      ]
     },
     "execution_count": 11,
     "metadata": {},
     "output_type": "execute_result"
    }
   ],
   "source": [
    "y = torch.tensor([[1, 2], [3, 4]], dtype=torch.float32, requires_grad=True)\n",
    "y"
   ]
  },
  {
   "cell_type": "markdown",
   "id": "1ca8c4a6",
   "metadata": {},
   "source": [
    "이렇게 requires_grad True로 설정을 해주면, y.sum()이나 y.max를 하면 backward를 알아서 해준다."
   ]
  },
  {
   "cell_type": "code",
   "execution_count": 12,
   "id": "d2539873",
   "metadata": {},
   "outputs": [
    {
     "data": {
      "text/plain": [
       "tensor(10., grad_fn=<SumBackward0>)"
      ]
     },
     "execution_count": 12,
     "metadata": {},
     "output_type": "execute_result"
    }
   ],
   "source": [
    "y.sum()"
   ]
  },
  {
   "cell_type": "markdown",
   "id": "d024a08b",
   "metadata": {},
   "source": [
    "backward가 자동으로 sum에 대한 backward라고 설정이 되고, "
   ]
  },
  {
   "cell_type": "code",
   "execution_count": 17,
   "id": "98a121ce",
   "metadata": {},
   "outputs": [
    {
     "data": {
      "text/plain": [
       "tensor([[3., 5.],\n",
       "        [7., 9.]], grad_fn=<AddBackward0>)"
      ]
     },
     "execution_count": 17,
     "metadata": {},
     "output_type": "execute_result"
    }
   ],
   "source": [
    "z = 2*y +1\n",
    "z # auto grad는 맨 마지막에 있는 것에 대한 grad, 여기서는 +가 마지막에 있어서 "
   ]
  },
  {
   "cell_type": "code",
   "execution_count": 14,
   "id": "1b0ca3d7",
   "metadata": {},
   "outputs": [
    {
     "data": {
      "text/plain": [
       "((<MulBackward0 at 0x7fcdd14a20d0>, 0), (None, 0))"
      ]
     },
     "execution_count": 14,
     "metadata": {},
     "output_type": "execute_result"
    }
   ],
   "source": [
    "z.grad_fn.next_functions#next_function을 통해 다음 backward를 파악할 수 있음. + 다음에 곱하기 하니까"
   ]
  },
  {
   "cell_type": "code",
   "execution_count": 18,
   "id": "344827c2",
   "metadata": {},
   "outputs": [],
   "source": [
    "out = z.sum()\n",
    "out.backward() #z는 행렬이라 backward 안됨, backward는 scalar output만"
   ]
  },
  {
   "cell_type": "code",
   "execution_count": 23,
   "id": "345bfb06",
   "metadata": {},
   "outputs": [
    {
     "name": "stdout",
     "output_type": "stream",
     "text": [
      "tensor([[4., 4.],\n",
      "        [4., 4.]])\n",
      "None\n",
      "None\n",
      "y.grad_fn : None\n",
      "z.grad_fn : <AddBackward0 object at 0x7fcdd14e9950>\n",
      "out.grad_fn : <SumBackward0 object at 0x7fcdd14e9d10>\n"
     ]
    },
    {
     "name": "stderr",
     "output_type": "stream",
     "text": [
      "/home/tako/anaconda3/envs/torch/lib/python3.7/site-packages/ipykernel_launcher.py:2: UserWarning: The .grad attribute of a Tensor that is not a leaf Tensor is being accessed. Its .grad attribute won't be populated during autograd.backward(). If you indeed want the gradient for a non-leaf Tensor, use .retain_grad() on the non-leaf Tensor. If you access the non-leaf Tensor by mistake, make sure you access the leaf Tensor instead. See github.com/pytorch/pytorch/pull/30531 for more information.\n",
      "  \n",
      "/home/tako/anaconda3/envs/torch/lib/python3.7/site-packages/ipykernel_launcher.py:3: UserWarning: The .grad attribute of a Tensor that is not a leaf Tensor is being accessed. Its .grad attribute won't be populated during autograd.backward(). If you indeed want the gradient for a non-leaf Tensor, use .retain_grad() on the non-leaf Tensor. If you access the non-leaf Tensor by mistake, make sure you access the leaf Tensor instead. See github.com/pytorch/pytorch/pull/30531 for more information.\n",
      "  This is separate from the ipykernel package so we can avoid doing imports until\n"
     ]
    }
   ],
   "source": [
    "print(y.grad)\n",
    "print(z.grad)\n",
    "print(out.grad) # 메모리 때문에 grad function 없는 마지막에 선언한것만 저장\n",
    "print(\"y.grad_fn :\", y.grad_fn)\n",
    "print(\"z.grad_fn :\", z.grad_fn)\n",
    "print(\"out.grad_fn :\", out.grad_fn)"
   ]
  },
  {
   "cell_type": "markdown",
   "id": "ab8d369c",
   "metadata": {},
   "source": [
    "tensor을 numpy로 바꾸고 싶을때,\n",
    "z.numpy를 하면 z에는 grad 등이 저장되어 있기 때문에 바로 변환할 수 없음.\n",
    "따라서, z.detach().numpy() 혹은 z.data().numpy()를 사용함."
   ]
  },
  {
   "cell_type": "code",
   "execution_count": 27,
   "id": "dec48c62",
   "metadata": {},
   "outputs": [
    {
     "data": {
      "text/plain": [
       "array([[3., 5.],\n",
       "       [7., 9.]], dtype=float32)"
      ]
     },
     "execution_count": 27,
     "metadata": {},
     "output_type": "execute_result"
    }
   ],
   "source": [
    "z.detach().numpy() "
   ]
  },
  {
   "cell_type": "code",
   "execution_count": 39,
   "id": "31d22844",
   "metadata": {},
   "outputs": [
    {
     "name": "stdout",
     "output_type": "stream",
     "text": [
      "tensor([ 2.7183,  7.3891, 20.0855], grad_fn=<ExpBackward>)\n",
      "tensor([0., 0., 0.])\n",
      "tensor([0., 0., 0.], grad_fn=<ExpBackward>)\n"
     ]
    }
   ],
   "source": [
    "a = torch.tensor([1,2,3.], requires_grad = True)\n",
    "b = a.exp()\n",
    "print(b)\n",
    "# c는 b를 graph에서 떼어내어 require gradient = False\n",
    "# 허나, 원본 데이터는 공유\n",
    "c = b.detach()\n",
    "c.zero_()\n",
    "print(c)\n",
    "print(b)# b도 초기화가 됨.\n",
    "#여기서 b.sum().backward()을 하면 b가 초기화 되었기 때문에 에러가 남"
   ]
  },
  {
   "cell_type": "code",
   "execution_count": 42,
   "id": "22079643",
   "metadata": {},
   "outputs": [
    {
     "name": "stdout",
     "output_type": "stream",
     "text": [
      "None\n"
     ]
    }
   ],
   "source": [
    "print(a.grad)# backward가 안되었기 때문에"
   ]
  },
  {
   "cell_type": "code",
   "execution_count": 46,
   "id": "946a5554",
   "metadata": {},
   "outputs": [
    {
     "name": "stdout",
     "output_type": "stream",
     "text": [
      "tensor([ 2.7183,  7.3891, 20.0855], grad_fn=<ExpBackward>)\n",
      "tensor([0., 0., 0.])\n",
      "tensor([0., 0., 0.], grad_fn=<ExpBackward>)\n"
     ]
    }
   ],
   "source": [
    "a = torch.tensor([1,2,3.], requires_grad = True)\n",
    "b = a.exp()\n",
    "print(b)\n",
    "\n",
    "# 허나, 원본 데이터는 공유\n",
    "c = b.data\n",
    "c.zero_()\n",
    "print(c)\n",
    "print(b)# b도 초기화가 됨."
   ]
  },
  {
   "cell_type": "code",
   "execution_count": 47,
   "id": "15b615a7",
   "metadata": {},
   "outputs": [
    {
     "data": {
      "text/plain": [
       "tensor([0., 0., 0.])"
      ]
     },
     "execution_count": 47,
     "metadata": {},
     "output_type": "execute_result"
    }
   ],
   "source": [
    "b.sum().backward() #data는 grad에 영향을 주지 않기 때문에 inplace가 일어나도 에러가 뜨지 않음.\n",
    "a.grad#따라서 잘못된 결과가 나왔음."
   ]
  },
  {
   "cell_type": "markdown",
   "id": "ef10f436",
   "metadata": {},
   "source": [
    "# Linear model\n"
   ]
  },
  {
   "cell_type": "markdown",
   "id": "9aa0fa6a",
   "metadata": {},
   "source": [
    "## 선형회귀와 신경망\n",
    "1. Forward 단계.\n",
    "데이터 처리 -> 모델 구현 -> 예측값 도출 -> loss function 계산\n",
    "2. Backward.\n",
    "기울기 계산 -> 개선 방향 찾기 -> 가중치 개선(w를 바꿔줌)"
   ]
  },
  {
   "cell_type": "markdown",
   "id": "f8dcdd02",
   "metadata": {},
   "source": [
    "- 신경망은 input layer, hidden layer, output layer로 구성되어 있다.\n",
    "- 선형신경망에서, hidden layer의 개수를 늘려도 선형결합이기 때문에 layer를 하나만 사용한 것과 같은 효과가 나온다.\n",
    "- 이를 방지하기 위해 activation function을 추가해 선형성을 깨트릴 수 있도록 한다."
   ]
  },
  {
   "cell_type": "code",
   "execution_count": 53,
   "id": "acc047f2",
   "metadata": {},
   "outputs": [],
   "source": [
    "import torch\n",
    "import torch.nn as nn\n",
    "import torch.optim as optim\n",
    "import torch.nn.functional as F\n",
    "import numpy as np"
   ]
  },
  {
   "cell_type": "code",
   "execution_count": 52,
   "id": "a564924b",
   "metadata": {},
   "outputs": [],
   "source": [
    "import matplotlib.pyplot as plt\n",
    "%matplotlib inline"
   ]
  },
  {
   "cell_type": "code",
   "execution_count": 67,
   "id": "09b06671",
   "metadata": {
    "scrolled": true
   },
   "outputs": [
    {
     "data": {
      "image/png": "[encoded data removed]",
      "text/plain": [
       "<Figure size 432x288 with 1 Axes>"
      ]
     },
     "metadata": {
      "needs_background": "light"
     },
     "output_type": "display_data"
    }
   ],
   "source": [
    "x = torch.linspace(-1, 1, 500)\n",
    "y = x.pow(2) + 0.2*torch.rand(x.size())\n",
    "\n",
    "plt.scatter(x.data.numpy(), y.data.numpy())\n",
    "plt.show()"
   ]
  },
  {
   "cell_type": "code",
   "execution_count": 68,
   "id": "a49cb2cc",
   "metadata": {
    "scrolled": true
   },
   "outputs": [
    {
     "data": {
      "text/plain": [
       "(torch.Size([500]), torch.Size([500]))"
      ]
     },
     "execution_count": 68,
     "metadata": {},
     "output_type": "execute_result"
    }
   ],
   "source": [
    "x.shape, y.shape"
   ]
  },
  {
   "cell_type": "code",
   "execution_count": 69,
   "id": "9bc868c9",
   "metadata": {},
   "outputs": [],
   "source": [
    "x = torch.unsqueeze(x, dim=1) # reshape와 같음.\n",
    "y = torch.unsqueeze(y, dim=1)"
   ]
  },
  {
   "cell_type": "code",
   "execution_count": 70,
   "id": "e40ed2fc",
   "metadata": {},
   "outputs": [
    {
     "data": {
      "text/plain": [
       "(torch.Size([500, 1]), torch.Size([500, 1]))"
      ]
     },
     "execution_count": 70,
     "metadata": {},
     "output_type": "execute_result"
    }
   ],
   "source": [
    "x.shape, y.shape"
   ]
  },
  {
   "cell_type": "code",
   "execution_count": 71,
   "id": "715ca680",
   "metadata": {},
   "outputs": [],
   "source": [
    "hidden = nn.Linear(1, 20, bias=True)#20+20\n",
    "output = nn.Linear(20, 1, bias=True)#21"
   ]
  },
  {
   "cell_type": "code",
   "execution_count": 72,
   "id": "19ff93ff",
   "metadata": {},
   "outputs": [],
   "source": [
    "model = nn.Sequential(hidden, output)"
   ]
  },
  {
   "cell_type": "code",
   "execution_count": 73,
   "id": "0b4a6e78",
   "metadata": {},
   "outputs": [],
   "source": [
    "loss = nn.MSELoss()\n",
    "optimizer = optim.SGD(model.parameters(), lr=0.1)"
   ]
  },
  {
   "cell_type": "code",
   "execution_count": 74,
   "id": "8a9a343c",
   "metadata": {},
   "outputs": [
    {
     "data": {
      "image/png": "[encoded data removed]",
      "text/plain": [
       "<Figure size 432x288 with 1 Axes>"
      ]
     },
     "metadata": {
      "needs_background": "light"
     },
     "output_type": "display_data"
    }
   ],
   "source": [
    "for step in range(500):\n",
    "    pre = model(x)\n",
    "    cost = loss(pre, y)\n",
    "    \n",
    "    optimizer.zero_grad()\n",
    "    cost.backward()\n",
    "    optimizer.step()\n",
    "    \n",
    "plt.scatter(x.data.numpy(), y.data.numpy())\n",
    "plt.plot(x.data.numpy(), pre.data.numpy(), 'r--', lw=6)\n",
    "plt.text(0.5, 0, 'Loss=%.4f' % cost.item(), fontdict={'size':10, 'color':'red'}) \n",
    "# linear 모델은 linear밖에 예측할 수 없음, hidden layer 개수를 증가시켜도 linear 하나 사용한것과 같음.\n",
    "plt.show()"
   ]
  },
  {
   "cell_type": "code",
   "execution_count": 79,
   "id": "ef0ead68",
   "metadata": {},
   "outputs": [],
   "source": [
    "hidden = nn.Linear(1, 20, bias=True)\n",
    "activation = nn.ReLU() #따라서, activation fuction을 넣어줘 선형성을 깨트림.\n",
    "output = nn.Linear(20, 1, bias=True)"
   ]
  },
  {
   "cell_type": "code",
   "execution_count": 80,
   "id": "8d5bbe06",
   "metadata": {},
   "outputs": [],
   "source": [
    "model = nn.Sequential(hidden, activation, output) "
   ]
  },
  {
   "cell_type": "code",
   "execution_count": 83,
   "id": "c8b1a8e2",
   "metadata": {},
   "outputs": [],
   "source": [
    "loss = nn.MSELoss()\n",
    "optimizer = optim.SGD(model.parameters(), lr=0.1)"
   ]
  },
  {
   "cell_type": "code",
   "execution_count": 85,
   "id": "cb362591",
   "metadata": {},
   "outputs": [
    {
     "data": {
      "image/png": "[encoded data removed]",
      "text/plain": [
       "<Figure size 432x288 with 1 Axes>"
      ]
     },
     "metadata": {
      "needs_background": "light"
     },
     "output_type": "display_data"
    }
   ],
   "source": [
    "for step in range(500):\n",
    "    pre = model(x)\n",
    "    cost = loss(pre, y)\n",
    "    \n",
    "    optimizer.zero_grad()\n",
    "    cost.backward()\n",
    "    optimizer.step()\n",
    "    \n",
    "plt.scatter(x.data.numpy(), y.data.numpy())\n",
    "plt.plot(x.data.numpy(), pre.data.numpy(), 'r--', lw=6)\n",
    "plt.text(0.5, 0, 'Loss=%.4f' % cost.item(), fontdict={'size':10, 'color':'red'})\n",
    "plt.show()"
   ]
  }
 ],
 "metadata": {
  "kernelspec": {
   "display_name": "Python 3",
   "language": "python",
   "name": "python3"
  },
  "language_info": {
   "codemirror_mode": {
    "name": "ipython",
    "version": 3
   },
   "file_extension": ".py",
   "mimetype": "text/x-python",
   "name": "python",
   "nbconvert_exporter": "python",
   "pygments_lexer": "ipython3",
   "version": "3.7.7"
  }
 },
 "nbformat": 4,
 "nbformat_minor": 5
}
